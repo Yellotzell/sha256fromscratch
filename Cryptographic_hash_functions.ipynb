{
 "cells": [
  {
   "cell_type": "markdown",
   "metadata": {},
   "source": [
    "##### [Cryptographic Hash Functions](#ca)\n",
    "\n",
    "- [What we would expect from a cryptograpic alrorithm (CA)](#expect)\n",
    "\n",
    "\n",
    "##### [Vulunerablility and types of attacks ](#vul)\n",
    "\n",
    "- [Which type of attack would have a more catastrophic impact](#catast)\n",
    "- [Broken CAs](#brok)\n",
    "\n",
    "##### [Different types of algorithms and their use cases ](#types_alg)\n",
    "\n",
    "##### [Discussion](#discussion)\n",
    "\n",
    "##### [Our implementation of SHA-256](#our_imp)\n",
    "\n",
    "\n",
    "##### [Building the SHA-256 cryptographic algorithm](#b_algo)\n",
    "\n",
    "- [Python bitwise operators](#bwise)\n",
    "- [Operators to be used for the SHA-256  development](#opers)\n",
    "    - [Exlusive or XOR (^)](#xor)\n",
    "    - [Bitwise right shift (>>)](#rsh)\n",
    "    - [Bitwise left shift (<<)](#lsh)\n",
    "    - [Bitwise OR operation ( | )](#or)\n",
    "    - [Bitwise NOT operation (~)](#not)\n",
    "\n",
    "- [Constant values to be used for the SHA-256 ](#const)\n",
    "    - [The $K$ constants](#kconst)\n",
    "    - [The $H$ constants](#hconst)\n",
    "\n",
    "- [The sha256 methods to be used for the algorithm](#meth)\n",
    "    - [Mod $2^{32}$ Addition](#mod32)\n",
    "    - [Righ rotation ($r\\_rot(x, steps)$)](#rrot)\n",
    "    - [Preproccessing the input message ($padding()$)](#padding)\n",
    "\n",
    "- [Logical functions used for the cryptographic algorithm's main method](#logic)\n",
    "    - [Choice function ($choice(x, y, z)$)](#choise)  \n",
    "    - [Majority function ($majority(x, y, z)$)](#maj)\n",
    "    - [$\\Sigma_0$ function](#S0)\n",
    "    - [$\\Sigma_1$ function](#S1)\n",
    "    - [$\\sigma_0$ function](#s0)\n",
    "    - [$\\sigma_1$ function](#s1)\n",
    "    - [The main hashing function](#comp)\n",
    "\n",
    "- [Combining everything to build the SHA-256  algorithm](#comb)\n",
    "    - [Comparison to the python hashlib](#compare)\n",
    "\n",
    "\n",
    "##### [References](#ref)\n",
    "\n",
    "\n"
   ]
  },
  {
   "cell_type": "markdown",
   "metadata": {},
   "source": [
    "# Cryptographic Hash Functions\n",
    "<a id=\"ca\"></a>\n",
    "\n",
    "Hashing is an important component of the modern digital world. Its extensive use has multiple applications but most importantly allows secure network communications, builds trust between users, organisations, governments and enables a smooth delivery of many interactions of the society. \n",
    "\n",
    "Some of the hashing applications in day-to-day life and technology are the following:\n",
    "\n",
    "\n",
    "- Password verification and message digestion: Web sites verify the user's identity by storing and comparing the hashed version of a password without the need of storing the actual password which would come with high risks. Another example the cryptographic algorithm can digest a chunk of data (e.g. a contract or a ledger) and produce signatures. A common application is the cryptographic component of the cryptocurrency.\n",
    "\n",
    "- Programming languages' data structures: Hashing data structures are used by computers to perfrorm operations like  comparison or identification of duplicates.\n",
    "\n",
    "## What we would expect from a cryptographic algorithm (CA)\n",
    "<a id=\"expect\"></a>\n",
    "\n",
    "An 'ideal' CA should have some essential properties. By principal, CAs have to be one-way. That means that one can easily produce an output of specific length $L$ (hash value) from an input but it should be very difficult to reverse the function and produce the initial message from the output. Another property that a CA should have is that for a minor alteration on the input message, the hashed value should change drastically<sup>[[1]](#ref)</sup> (Avalanche effect). Finally, for an 'ideal' CA it should be difficult to identify two different inputs that result into the same hash value. Although it's possible that two messages have the same hash value<sup>[[2]](#ref)</sup> (Pigeonhole principle), this is not something likely to occur 'naturally' (without effort). In terms of message digesting, a CA has to have a 'balanced' speed. This means that it has to be fast enough for a user to digest big documents but slow enough to discourage brute-force attacks. For example, a CA to be used for hashing passwords should be slower than one used for larger message digestion.\n",
    "\n",
    "As the term 'difficult' mentioned above is quite abstract, the effort required to compromise the two essential characteristics of an ideal CA that can be expressed mathematically. It should take $2^{L/2}$ attempts to find two messages($M$ and $M'$) that generate the same hash value (collision-free property) and for a known $M$ should take $2^L$ attempts to find a $M'$ that has the same hash value (preimage property).\n",
    "\n",
    "Under the assumption that such a CA wouldn't have any weaknesses, it would only be possible to undermine its integrity by brute-force. This means that the attacker should try all the possible combinations to either compromise the 'one-way' or 'collision-free' property of the function. A CA will be considered functional as long as an attack requires a disproportional amount of time and resources (computational power).\n",
    "\n",
    "# Vulnerablility and types of attacks \n",
    "<a id=\"vul\"></a>\n",
    "\n",
    "A CA would be considered vulnerable when it is worth the attacker's time and resources to compromise one of its properties. Therefore:\n",
    "\n",
    "1. An attack to the collision-free property would be practical when the attacker can identify a $M$ and $M'$ with the same hash with less that $2^{L/2}$ attempts.\n",
    "\n",
    "\n",
    "2. An attack to the one-way property would be possible when the attacker can either:\n",
    "    - Find a $M$ for a known hash value in less that $2^L$ attempts (first preimage attack)\n",
    "    - For a known $M$ find a $M'$ with the same hash value in less than $2^L$ attempts (second preimage attack)\n",
    "    \n",
    " \n",
    "## Which type of attack would have a more catastrophic impact\n",
    "<a id=\"catast\"></a>\n",
    "\n",
    "The lifecycle of a CA comes into and end when its properties are no longer valid. Although, the 'collision-free' characteristic of a CA is important, the preimage attacks could be devastating for the reputation and the security an algorithm can provide. By definition, in a collision attack scenario the attacker is free to choose between two random messages that share a common hash value ($2^{L/2}$ attempts required). In the second preimage attack scenario, the task is to find a message that its key matches the one of an already known message (a more difficult task with complexity $2^L$). If the attacker finds a 'practical' way to achieve this then the function ceases to be one-way. \n",
    "\n",
    "The two attacks might have similarities but are different concept-wise. \n",
    "\n",
    "For example, when an attacker has the freedom to forge two contracts with the same signature, they can use the two documents interchangeably on his favour to perform a fraud. This would be a collision attack.\n",
    "\n",
    "In a different case, when an attacker wills to forge a signature for a given message, the second preimage is of great importance. The task is much harder as it requires finding an identical signature for a given data message.\n",
    "\n",
    "\n",
    "From the nature of the examples above we could come up with two conclusions: \n",
    "\n",
    "\n",
    " \n",
    "- A second preimage is essentially a version of collision that is harder to solve. If the second preimage resistance of a CA is compromised, then the collision resistance is compromised as well (but not the other way around). \n",
    "\n",
    "\n",
    "- If the second preimage is attacked, the impact would be far more devastating as a great range of protocols and certificates will be affected. In this case, the one-way property of a CA is completely eliminated and the function is considered completely broken. \n",
    "\n",
    "## Broken CAs (MD2)\n",
    "<a id=\"brok\"></a>\n",
    "\n",
    "Looking in to the IETF's<sup>[[3]](#ref)</sup> 'Request for Comments'<sup>[[4]](#ref)</sup> (a memorandum on Internet standards), one can gain some good understanding about the introduction and the end of life of the MD2 algorithm. \n",
    "\n",
    "In [August 1989](https://datatracker.ietf.org/doc/html/rfc1115) MD2 was introduced by Ron Rivest (RSA<sup>[[7]](#ref)</sup>) for use on  privacy-enhanced electronic mail.  \n",
    "\n",
    "\n",
    "In [April 2002](https://datatracker.ietf.org/doc/html/rfc3279) were expressed some concerns about the integrity of the algorithm as the checksum operation was the only obstacle for a succesful attack. Thus it was recommended that MD2 could be still used to verify existing signatures, as the ability to find collisions in MD2 would not enable an  attacker to find new messages having a previously computed hash value. It was also recommended that the algorithm shouldn't be used in new applications.\n",
    "\n",
    "\n",
    "In a [March 2011](https://datatracker.ietf.org/doc/html/rfc6149#ref-KMM2010) RFC a preimage attack of $2^{73}$ complexity was confirmed<sup>[[5]](#ref)</sup>. The MD2 was not one-way anymore and shouldn't be used for digital signatures. \n",
    "\n",
    "\n",
    "One of the basic concepts that is making attacks feasible is the birthday paradox<sup>[[6]](#ref)</sup>. Based on the statistical fact that the attempts needed to compromise a CA property are less than just using brute force, the attackers were able to apply several scenarios to make MD2 invertible. \n",
    "\n",
    "\n",
    "Generally, an attack might not be computationally practical but still can reveal weaknesses of cryptographic algorithm. As noted by Bruce Schneier<sup>[[12]](#ref)</sup>, if an algorithm is proved to be attacked in fewer attempts than brute force, it is still considered as broken even if this attack is not possible in practice.\n",
    "\n",
    "\n",
    "# Different types of algorithms and their use cases (PBKDF2 and sha256)\n",
    "<a id=\"types_alg\"></a>\n",
    "\n",
    "\n",
    "There are several hashing algorithms developed over the years with each one having the same properties but different design and characteristics. In this section we will see how PBKDF2 and SHA-256 are different from each other and why they perform better in different tasks.\n",
    "\n",
    "PBKDF2 comes from RSA's 'Public-Key Cryptography Standards'<sup>[[8]](#ref)</sup> (PKCS) series. As it was stated in [RFC 2898](https://www.ietf.org/rfc/rfc2898.txt), since passwords were often chosen from a relatively small space *(users tend to select similar common words as passwords. Additionally, passwords are usually relatively short)*, special care was required from the cryptographic operations to defend against search attacks. The main focus of PBKDF2 is to generate a hash version of passwords since the cryptosystems cannot store directly passwords.       \n",
    "\n",
    "The two main characteristics of PBKDF2 are:\n",
    "     \n",
    "   _**a)** Incorporates a 'salt value'<sup>[[9]](#ref)</sup>(password hashes use a salt so that identical passwords won't map to the same hash)_ \n",
    "   \n",
    "   _**b)** It is by design slower in comparison to other algorithms. For example, for a sample run of 40 hashes, using a Linux Mint 64 bit operating system on a Core i5 3340M at 2.7GHz, the SHA-256  performs 126,323 hashes per second when PBKDF2 performs only 5,026<sup>[[10]](#ref)</sup>_\n",
    "   \n",
    "   _**c)** Incorporates an adjustable  [work factor](https://csrc.nist.gov/glossary/term/work_factor)._\n",
    "\n",
    "\n",
    "The SHA-256  belongs to the SHA-2 family of algorithms with digest of 256 bits. SHA-2 was first published by the [National Institute of Standards and Technology](https://www.nist.gov) (NIST) as a Federal Information Processing. SHA-256 is commonly used when the input message is relatively large. For example, Linux distribution operating systems (like Debian) are using SHA-256 to authenticate packages<sup>[[11]](#ref)</sup>. Another common application is on cryptocurrencies. The main characteristics of SHA-256. SHA-256 compared to PBKDF2:\n",
    "\n",
    "   _**a)** Does not have a salt value (although a similar effect can be achieved by prepending the salt to the input message)_ \n",
    "   \n",
    "   _**a)** It's fast by design_\n",
    "   \n",
    "Generally, from the use cases for each algorithm we can see that in the PBKDF2 case the resulting output isn't used as key but as hash value and it's also called a password hash. It is different from SHA-256 as it contains a salt value and a work factor. The salt value and the slowness of PBKDF2 makes it more resistant to brute force attacks, using a [dictionary](https://en.wikipedia.org/wiki/Dictionary_attack) of common passwords, or using a [rainbow table](https://en.wikipedia.org/wiki/Rainbow_table) (a pre-compiled list of hash values). On the other hand side, the SHA-256 is used by Bitcoin for verifying transactions and calculating proof of work. Because of its speed, SHA-256 can provide a good balance of collision-avoidance and performance.\n",
    "\n",
    "# Discussion\n",
    "<a id=\"discussion\"></a>\n",
    "\n",
    "\n",
    "Apart from all the methodological aspects of each type of attacks, it is also useful to take into account their requirements in terms of resources<sup>[[13]](#ref)</sup>. Three major parameters that play an important role in the efficiency of an algorithm are:\n",
    "\n",
    "- The computational steps for the attack\n",
    "\n",
    "- The required memory storage\n",
    "\n",
    "- The length of the input message and the hash value\n",
    "\n",
    "These parameters along with the particularity of each algorithm (i.e., speed) make the evaluation of characterising  an attack feasible a difficult task. In the field of cryptanalysis, the order of the magnitude for an attack might be summarised in a single number (e.g. $2^L$) but how practical such an attack is would depend on other factors as well. One of the main concerns is how much the increase in computer power (according to Gordon Moore<sup>[[18]](#ref)</sup> \"The number of transistors incorporated in a chip will approximately double every 24 months.\") enables criminal activity against cryptography. Apart from the increased access to supercomputing that is now possible through the cloud services, it is also investigated how quantum computers will affect security in the future (Fred Pipe<sup>[[14]](#ref)</sup>).\n",
    "\n",
    "\n",
    "Finally, since cryptography lies in the heart of cryptocurrency as a mean for distributing trust through the concept of proof of work, there is also an environmental issue raised. Proof of work is very demanding in terms of renewable energy and consequently has an impact to climate change via the carbon emissions produced. To tackle this problem, some cryptocurrencies introduced the concept of proof of stake as an alternative to proof of work. Although proof of stake has significantly less requirements in terms of energy, there is a debate on whether the distributed trust concept is compromised under the assumption that more wealthy miners will be able to earn more.\n",
    "\n",
    "# Our implementation of SHA-256\n",
    "<a id=\"our_imp\"></a>\n",
    "\n",
    "In the second part of this work we will attempt to develop the SHA-256 algorithm. We will dive into the details of how all of its components work to finally combine all the [steps required](#comb) (link to a following paragraph) to replicate the algorithm."
   ]
  },
  {
   "cell_type": "markdown",
   "metadata": {},
   "source": [
    "# Building the SHA-256  cryptographic algorithm\n",
    "<a id=\"b_algo\"></a>"
   ]
  },
  {
   "cell_type": "markdown",
   "metadata": {},
   "source": [
    "In this section we will be developing the SHA-256  cryptographic algorithm as described in the Information Warefare Site<sup>[[15]](#ref)</sup>. To achieve that we will construct and explain all the operations and components of the algorithm and we will finally implement it as a python class."
   ]
  },
  {
   "cell_type": "markdown",
   "metadata": {},
   "source": [
    "## Python bitwise operators \n",
    "<a id=\"bwise\"></a>"
   ]
  },
  {
   "cell_type": "markdown",
   "metadata": {},
   "source": [
    "As we know already, the SHA-256  cryptographic algorithm digests our original text 'translated' into bits. Therefore we will be working with python bitwise operators. The bitwise operations take one or two arguments and instead of operating on them as a whole, they process them bit by bit."
   ]
  },
  {
   "cell_type": "markdown",
   "metadata": {},
   "source": [
    "For example, when arithmetic operators are applied on numerical values, the bitwise orepators are used to compare the binaries beneath these values."
   ]
  },
  {
   "cell_type": "code",
   "execution_count": 1,
   "metadata": {},
   "outputs": [
    {
     "data": {
      "text/plain": [
       "12"
      ]
     },
     "execution_count": 1,
     "metadata": {},
     "output_type": "execute_result"
    }
   ],
   "source": [
    "# Arithmetic 'add'(+) operator\n",
    "\n",
    "5 + 7"
   ]
  },
  {
   "cell_type": "code",
   "execution_count": 2,
   "metadata": {},
   "outputs": [
    {
     "data": {
      "text/plain": [
       "5"
      ]
     },
     "execution_count": 2,
     "metadata": {},
     "output_type": "execute_result"
    }
   ],
   "source": [
    "# Bitsiwe 'and'(&) operator  \n",
    "\n",
    "5 & 7"
   ]
  },
  {
   "cell_type": "markdown",
   "metadata": {},
   "source": [
    "This might not be immediately obvious but it makes more sense if we see the binaries of 5 and 7."
   ]
  },
  {
   "cell_type": "code",
   "execution_count": 3,
   "metadata": {},
   "outputs": [
    {
     "name": "stdout",
     "output_type": "stream",
     "text": [
      "The binary representations of 5 and 7 are respectively 101 and 111\n"
     ]
    }
   ],
   "source": [
    "print ('The binary representations of 5 and 7 are respectively {} and {}'.format(bin(5)[2:], bin(7)[2:]))"
   ]
  },
  {
   "cell_type": "markdown",
   "metadata": {},
   "source": [
    "So, we can write the bitwise operation (&) using the binaries:"
   ]
  },
  {
   "cell_type": "code",
   "execution_count": 4,
   "metadata": {},
   "outputs": [
    {
     "data": {
      "text/plain": [
       "'0b101'"
      ]
     },
     "execution_count": 4,
     "metadata": {},
     "output_type": "execute_result"
    }
   ],
   "source": [
    "bin(0b101 & 0b111)"
   ]
  },
  {
   "cell_type": "markdown",
   "metadata": {},
   "source": [
    "To better understand this output we can see the python's documentation<sup>[[16]](#ref)</sup> for the 'and' (&) operator. The bits of 5 and 7 are compared one by one by the & operator to give us the following results:\n",
    "\n",
    "1&1  -> 1\n",
    "\n",
    "0&1  -> 0\n",
    "\n",
    "1&1  -> 1\n",
    "\n",
    "\n",
    "The binary that we obtain after the oparation is 101, which corresponds to 5:"
   ]
  },
  {
   "cell_type": "code",
   "execution_count": 5,
   "metadata": {},
   "outputs": [
    {
     "data": {
      "text/plain": [
       "5"
      ]
     },
     "execution_count": 5,
     "metadata": {},
     "output_type": "execute_result"
    }
   ],
   "source": [
    "0b101 & 0b111"
   ]
  },
  {
   "cell_type": "markdown",
   "metadata": {},
   "source": [
    "Therefore, arithmetically the bitwise 'and' (&) can be expressed by:"
   ]
  },
  {
   "cell_type": "markdown",
   "metadata": {},
   "source": [
    "$(a  \\&  b)_i = a_i \\cdot b_i$"
   ]
  },
  {
   "cell_type": "markdown",
   "metadata": {},
   "source": [
    "## Operators to be used for the SHA-256  development\n",
    "<a id=\"opers\"></a>"
   ]
  },
  {
   "cell_type": "markdown",
   "metadata": {},
   "source": [
    "Along with the 'and' operator we will use the following operators to develop our algorithm:"
   ]
  },
  {
   "cell_type": "markdown",
   "metadata": {},
   "source": [
    "### Exlusive or XOR (^)\n",
    "<a id=\"xor\"></a>"
   ]
  },
  {
   "cell_type": "markdown",
   "metadata": {},
   "source": [
    "This operator returns a 1 for an odd result of the sum of the corresponding bits and a 0 if the sum is even (or 0).\n",
    "\n",
    "Example:"
   ]
  },
  {
   "cell_type": "code",
   "execution_count": 6,
   "metadata": {},
   "outputs": [
    {
     "data": {
      "text/plain": [
       "'0b10'"
      ]
     },
     "execution_count": 6,
     "metadata": {},
     "output_type": "execute_result"
    }
   ],
   "source": [
    "bin(0b101 ^ 0b111)"
   ]
  },
  {
   "cell_type": "markdown",
   "metadata": {},
   "source": [
    "1^1  -> 0\n",
    "\n",
    "0^1  -> 1\n",
    "\n",
    "1^1  -> 0\n",
    "\n",
    "This can be mathematically expressed by the sum of the coresponding bits modulo 2:\n",
    "\n",
    "$(a $^$  b)_i = (a_i + b_i)mod2$"
   ]
  },
  {
   "cell_type": "markdown",
   "metadata": {},
   "source": [
    "### Bitwise right shift (>>)\n",
    "<a id=\"rsh\"></a>"
   ]
  },
  {
   "cell_type": "markdown",
   "metadata": {},
   "source": [
    "This operator shifts the bits of a word $n$ steps rightwise. For example:\n",
    "\n",
    "1 0 0 1 0 0 1 1 1 \n",
    "     \n",
    "     >> 2\n",
    "      =\n",
    "0 0 1 0 0 1 0 0 1 \n",
    "\n",
    "which essentially equals  to 1 0 0 1 0 0 1 as the zeros in the begining of a word could be excluded without alternating its meaning.\n",
    "\n",
    "It is important to note that by performing $n$ bits right shift we lose $n$ bits of 'information' from the right end of our word."
   ]
  },
  {
   "cell_type": "markdown",
   "metadata": {},
   "source": [
    "Python example:"
   ]
  },
  {
   "cell_type": "code",
   "execution_count": 7,
   "metadata": {},
   "outputs": [
    {
     "data": {
      "text/plain": [
       "'0b1001001'"
      ]
     },
     "execution_count": 7,
     "metadata": {},
     "output_type": "execute_result"
    }
   ],
   "source": [
    "bin(0b100100111 >> 2)"
   ]
  },
  {
   "cell_type": "markdown",
   "metadata": {},
   "source": [
    "This can be mathematically expressed as:"
   ]
  },
  {
   "cell_type": "markdown",
   "metadata": {},
   "source": [
    "$a >> n = [\\frac{a}{2^n}]$"
   ]
  },
  {
   "cell_type": "markdown",
   "metadata": {},
   "source": [
    "### Bitwise left shift (<<)\n",
    "<a id=\"lsh\"></a>"
   ]
  },
  {
   "cell_type": "markdown",
   "metadata": {},
   "source": [
    "The left shift operator shifts the input word $n$ bits to the left. In order to maintain the words length, it adds $n$ number of zeros to the right."
   ]
  },
  {
   "cell_type": "markdown",
   "metadata": {},
   "source": [
    "Example:"
   ]
  },
  {
   "cell_type": "code",
   "execution_count": 8,
   "metadata": {},
   "outputs": [
    {
     "data": {
      "text/plain": [
       "'0b10010011100'"
      ]
     },
     "execution_count": 8,
     "metadata": {},
     "output_type": "execute_result"
    }
   ],
   "source": [
    "bin(0b100100111 << 2)"
   ]
  },
  {
   "cell_type": "markdown",
   "metadata": {},
   "source": [
    "A mathematical expression would be:"
   ]
  },
  {
   "cell_type": "markdown",
   "metadata": {},
   "source": [
    "$a << n = a \\cdot 2^n$"
   ]
  },
  {
   "cell_type": "markdown",
   "metadata": {},
   "source": [
    "### Bitwise OR operation ( | )\n",
    "<a id=\"lsh\"></a>"
   ]
  },
  {
   "cell_type": "markdown",
   "metadata": {},
   "source": [
    "The bitwise 'or' operator returns a 1 if at least one of the two bits compared is 1. For example:"
   ]
  },
  {
   "cell_type": "code",
   "execution_count": 9,
   "metadata": {},
   "outputs": [
    {
     "data": {
      "text/plain": [
       "'0b111'"
      ]
     },
     "execution_count": 9,
     "metadata": {},
     "output_type": "execute_result"
    }
   ],
   "source": [
    "bin(0b101 | 0b111)"
   ]
  },
  {
   "cell_type": "markdown",
   "metadata": {},
   "source": [
    "1|1  -> 1\n",
    "\n",
    "0|1  -> 1\n",
    "\n",
    "1|1  -> 1\n",
    "\n",
    "This can be mathematically expressed by the union of the two operators:\n",
    "\n",
    "$(a | b)_i = a_i + b_i - (a_i \\cdot b_i)$"
   ]
  },
  {
   "cell_type": "markdown",
   "metadata": {},
   "source": [
    "### Bitwise NOT operation (~)\n",
    "<a id=\"not\"></a>"
   ]
  },
  {
   "cell_type": "markdown",
   "metadata": {},
   "source": [
    "This operation takes only one argument and reverses its bits (1s are turned to 0s and 0s to 1s) \n",
    "\n",
    "~1  -> 0\n",
    "\n",
    "~0  -> 1\n",
    "\n",
    "~1  -> 0\n",
    "\n",
    "This could be expressed as:\n",
    "\n",
    "$ \\sim a_i = 1 - a_i$ (bitwise complement)"
   ]
  },
  {
   "cell_type": "markdown",
   "metadata": {},
   "source": [
    "## Constant values to be used for the SHA-256 \n",
    "<a id=\"const\"></a>"
   ]
  },
  {
   "cell_type": "markdown",
   "metadata": {},
   "source": [
    "The following two sets of constant values $H$ and $K$ will be used to mix the message that we will later pass into the main compression function of our algorithm. For this imlementation, the constants from the SHA-256  description paper are used. The following paragraphs explain how these constants are produced."
   ]
  },
  {
   "cell_type": "markdown",
   "metadata": {},
   "source": [
    "### The $K$ constants\n",
    "<a id=\"kconst\"></a>"
   ]
  },
  {
   "cell_type": "markdown",
   "metadata": {},
   "source": [
    "$K_{1-64}$ is a sequence of constant words given in hexadecimal which are produced by the first 32 digits of the fractional part of the cube root of the first 64 prime numbers."
   ]
  },
  {
   "cell_type": "markdown",
   "metadata": {},
   "source": [
    "For example, $K_1$ will derive from the hexadecimal of the first 32 decimals of $\\sqrt[3]{2}$. Similarily, $K_2$ will derive from $\\sqrt[3]{3}$ and so on up to $\\sqrt[3]{311}$ ."
   ]
  },
  {
   "cell_type": "markdown",
   "metadata": {},
   "source": [
    "$K_{1-64}$ = [<mark>0x428a2f98</mark>, 0x71374491, 0xb5c0fbcf, 0xe9b5dba5,\n",
    "              0x3956c25b, 0x59f111f1, 0x923f82a4, 0xab1c5ed5,\n",
    "              0xd807aa98, 0x12835b01, 0x243185be, 0x550c7dc3,\n",
    "              0x72be5d74, 0x80deb1fe, 0x9bdc06a7, 0xc19bf174,\n",
    "      0xe49b69c1, 0xefbe4786, 0x0fc19dc6, 0x240ca1cc,\n",
    "      0x2de92c6f, 0x4a7484aa, 0x5cb0a9dc, 0x76f988da,\n",
    "      0x983e5152, 0xa831c66d, 0xb00327c8, 0xbf597fc7,\n",
    "      0xc6e00bf3, 0xd5a79147, 0x06ca6351, 0x14292967,\n",
    "      0x27b70a85, 0x2e1b2138, 0x4d2c6dfc, 0x53380d13,\n",
    "      0x650a7354, 0x766a0abb, 0x81c2c92e, 0x92722c85,\n",
    "      0xa2bfe8a1, 0xa81a664b, 0xc24b8b70, 0xc76c51a3,\n",
    "      0xd192e819, 0xd6990624, 0xf40e3585, 0x106aa070,\n",
    "      0x19a4c116, 0x1e376c08, 0x2748774c, 0x34b0bcb5,\n",
    "      0x391c0cb3, 0x4ed8aa4a, 0x5b9cca4f, 0x682e6ff3,\n",
    "      0x748f82ee, 0x78a5636f, 0x84c87814, 0x8cc70208,\n",
    "      0x90befffa, 0xa4506ceb, 0xbef9a3f7, 0xc67178f2]"
   ]
  },
  {
   "cell_type": "markdown",
   "metadata": {},
   "source": [
    "As we can see, we can reproduce the float from which <mark>'428a2f98'</mark> was derived."
   ]
  },
  {
   "cell_type": "code",
   "execution_count": 10,
   "metadata": {},
   "outputs": [
    {
     "name": "stdout",
     "output_type": "stream",
     "text": [
      "0.2599210496991873\n"
     ]
    }
   ],
   "source": [
    "# From hexadecimal to float\n",
    "decimals = []\n",
    "for (i, x) in enumerate('428a2f98'):\n",
    "    decimals.append(int(x,16)/(16**(i+1)))\n",
    "print (sum(decimals))"
   ]
  },
  {
   "cell_type": "code",
   "execution_count": 11,
   "metadata": {},
   "outputs": [
    {
     "name": "stdout",
     "output_type": "stream",
     "text": [
      "0.2599210498948732\n"
     ]
    }
   ],
   "source": [
    "# The cube root of 2\n",
    "# Only the digits after the fraction were used for the hexadecimal above\n",
    "# therefore we deduct 1 (-1)\n",
    "\n",
    "\n",
    "print (2**(1/3)-1) # As this is an example the result is almost similar. \n",
    "                   # Some long decimal calculations led to \n",
    "                   # slight alternation of the final value\n",
    "                   # For the implementation, the values from the SHA-256 description paper were used"
   ]
  },
  {
   "cell_type": "markdown",
   "metadata": {},
   "source": [
    "### The $H$ constants\n",
    "<a id=\"hconst\"></a>"
   ]
  },
  {
   "cell_type": "markdown",
   "metadata": {},
   "source": [
    "For the initial 8 hash words to be produced $H_{1-8}$ is used the hexadecimal of the fractional part of the square roots of the first 8 prime numbers $\\sqrt{2}$, $\\sqrt{3}$ .. and so on."
   ]
  },
  {
   "cell_type": "markdown",
   "metadata": {},
   "source": [
    "$H_{1-8}$ = [<mark>0x6a09e667</mark>, 0xbb67ae85, 0x3c6ef372, 0xa54ff53a,\n",
    "      0x510e527f, 0x9b05688c, 0x1f83d9ab, 0x5be0cd19]"
   ]
  },
  {
   "cell_type": "markdown",
   "metadata": {},
   "source": [
    "An example of how <mark>'6a09e667'</mark> was derived from the fractional part of $\\sqrt{2}$ :"
   ]
  },
  {
   "cell_type": "code",
   "execution_count": 12,
   "metadata": {},
   "outputs": [
    {
     "name": "stdout",
     "output_type": "stream",
     "text": [
      "0.41421356215141714\n"
     ]
    }
   ],
   "source": [
    "# From hexadecimal to float\n",
    "decimals = []\n",
    "for (i, x) in enumerate('6a09e667'):\n",
    "    decimals.append(int(x,16)/(16**(i+1)))\n",
    "print (sum(decimals))"
   ]
  },
  {
   "cell_type": "code",
   "execution_count": 13,
   "metadata": {},
   "outputs": [
    {
     "name": "stdout",
     "output_type": "stream",
     "text": [
      "0.41421356237309515\n"
     ]
    }
   ],
   "source": [
    "print (2**(1/2)-1) # again this is almost equal due to operations with many decimals"
   ]
  },
  {
   "cell_type": "markdown",
   "metadata": {},
   "source": [
    "## The SHA-256 methods to be used for the algorithm\n",
    "<a id=\"meth\"></a>"
   ]
  },
  {
   "cell_type": "markdown",
   "metadata": {},
   "source": [
    "Based on the python's bitwise operations we will develop the following methods needed for the the cryptographic alogorithm:"
   ]
  },
  {
   "cell_type": "markdown",
   "metadata": {},
   "source": [
    "### Mod $2^{32}$ Addition\n",
    "<a id=\"mod32\"></a>"
   ]
  },
  {
   "cell_type": "markdown",
   "metadata": {},
   "source": [
    "This operation for a word $x$ can be written as:"
   ]
  },
  {
   "cell_type": "markdown",
   "metadata": {},
   "source": [
    "$x$ $mod$ $n = c$  "
   ]
  },
  {
   "cell_type": "markdown",
   "metadata": {},
   "source": [
    "where:\n",
    "\n",
    "\n",
    "$0 \\leqslant c < n$  \n",
    "\n",
    "and \n",
    "\n",
    "$(x  - c)$ is a multiple of $n$"
   ]
  },
  {
   "cell_type": "markdown",
   "metadata": {},
   "source": [
    "In bitwise python to perform the $mod$ $n$ for $n=32$ we add   *0xFFFFFFFF* (32 bits in hexadecimal). For example, the Mod $2^{32}$ addition of the word:"
   ]
  },
  {
   "cell_type": "code",
   "execution_count": 14,
   "metadata": {},
   "outputs": [],
   "source": [
    "x = 0b1001100001000011000000000010110010011000010000110000000000101"
   ]
  },
  {
   "cell_type": "markdown",
   "metadata": {},
   "source": [
    "will be:"
   ]
  },
  {
   "cell_type": "code",
   "execution_count": 15,
   "metadata": {},
   "outputs": [
    {
     "name": "stdout",
     "output_type": "stream",
     "text": [
      "0b10010011000010000110000000000101\n"
     ]
    }
   ],
   "source": [
    "print (bin(x & 0xFFFFFFFF))"
   ]
  },
  {
   "cell_type": "markdown",
   "metadata": {},
   "source": [
    "### Righ rotation ($r\\_rot(x, steps)$)\n",
    "<a id=\"rrot\"></a>"
   ]
  },
  {
   "cell_type": "markdown",
   "metadata": {},
   "source": [
    "This method takes as an input a bit 'word' and rotates the bits righwise. Similar to the right shift, this function moves the digits to the right but instead of replacing the last digit of the word with a 0 in the start (left), it actually moves it at the start of the sequence."
   ]
  },
  {
   "cell_type": "markdown",
   "metadata": {},
   "source": [
    "For example:"
   ]
  },
  {
   "cell_type": "markdown",
   "metadata": {},
   "source": [
    "for the **word** = 1 0 0 1 0 1 1 1\n",
    "\n",
    "if we rotate to the right by **steps** = 2 \n",
    "\n",
    "then \n",
    "\n",
    "**r_rot**(word, steps) ->  1 1 1 0 0 1 0 1"
   ]
  },
  {
   "cell_type": "markdown",
   "metadata": {},
   "source": [
    "To build a python function for right rotation we can perform the following bitwise operation steps.\n",
    "\n",
    "To rotate, for example the 32-bit word:"
   ]
  },
  {
   "cell_type": "code",
   "execution_count": 16,
   "metadata": {},
   "outputs": [],
   "source": [
    "x = 0b1001100001000011000000000010110"
   ]
  },
  {
   "cell_type": "markdown",
   "metadata": {},
   "source": [
    "2 steps to the right"
   ]
  },
  {
   "cell_type": "code",
   "execution_count": 17,
   "metadata": {},
   "outputs": [],
   "source": [
    "steps = 2"
   ]
  },
  {
   "cell_type": "markdown",
   "metadata": {},
   "source": [
    "We initially shift our word two steps rightwise"
   ]
  },
  {
   "cell_type": "code",
   "execution_count": 18,
   "metadata": {},
   "outputs": [
    {
     "name": "stdout",
     "output_type": "stream",
     "text": [
      "0b10011000010000110000000000101\n"
     ]
    }
   ],
   "source": [
    "print (bin(x >> steps))"
   ]
  },
  {
   "cell_type": "markdown",
   "metadata": {},
   "source": [
    "Since we need to maintain the infrormation we have lost with the right shift we perfrorm a 32 - 2 left shift to our initial word."
   ]
  },
  {
   "cell_type": "code",
   "execution_count": 19,
   "metadata": {},
   "outputs": [
    {
     "name": "stdout",
     "output_type": "stream",
     "text": [
      "0b1001100001000011000000000010110000000000000000000000000000000\n"
     ]
    }
   ],
   "source": [
    "print (bin(x << (32 - steps)))"
   ]
  },
  {
   "cell_type": "markdown",
   "metadata": {},
   "source": [
    "We take the union of right and left shift:"
   ]
  },
  {
   "cell_type": "code",
   "execution_count": 20,
   "metadata": {},
   "outputs": [
    {
     "name": "stdout",
     "output_type": "stream",
     "text": [
      "0b1001100001000011000000000010110010011000010000110000000000101\n"
     ]
    }
   ],
   "source": [
    "print (bin(((x >> 2) | (x << (32 - 2)))))"
   ]
  },
  {
   "cell_type": "markdown",
   "metadata": {},
   "source": [
    "Finally, we perfrom Mod $2^{32}$ addition to keep a $n = 32$ multiple of the word which corresponds to the rightwise rotated initial word."
   ]
  },
  {
   "cell_type": "code",
   "execution_count": 21,
   "metadata": {},
   "outputs": [
    {
     "name": "stdout",
     "output_type": "stream",
     "text": [
      "0b10010011000010000110000000000101\n"
     ]
    }
   ],
   "source": [
    "f32 = 0xFFFFFFFF\n",
    "\n",
    "print (bin(((x >>steps) | (x << (32 - steps))) & f32))"
   ]
  },
  {
   "cell_type": "markdown",
   "metadata": {},
   "source": [
    "We can now write everything as a function so we can use it in our algorithm development:"
   ]
  },
  {
   "cell_type": "code",
   "execution_count": 22,
   "metadata": {},
   "outputs": [
    {
     "data": {
      "text/plain": [
       "'0b10010011000010000110000000000101'"
      ]
     },
     "execution_count": 22,
     "metadata": {},
     "output_type": "execute_result"
    }
   ],
   "source": [
    "f32 = 0xFFFFFFFF\n",
    "\n",
    "x = 0b1001100001000011000000000010110\n",
    "\n",
    "def r_rot(x, steps):\n",
    "    return ((x >> steps) | (x << (32 - steps))) & f32\n",
    "\n",
    "bin(r_rot(x, 2))"
   ]
  },
  {
   "cell_type": "markdown",
   "metadata": {},
   "source": [
    "### Preproccessing the input message ($padding()$)\n",
    "<a id=\"padding\"></a>"
   ]
  },
  {
   "cell_type": "markdown",
   "metadata": {},
   "source": [
    "The SHA-256 hashes data in chunks of 512-bits at the time. Therefore we need to make sure that the input's message length is a multiple of 512-bits. If the lentgh is shorter than 512-bits we pad it to 512, otherwise we pad it to the next closest multipe (1024). Our SHA-256 implementation, in the event that the message is longer than 64 bytes, will digest all the message blocks multiples and the remainders will be sent for padding in order to be consumed in a last itteration by the compression function.\n"
   ]
  },
  {
   "cell_type": "markdown",
   "metadata": {},
   "source": [
    "Let's take an example where the input message is 'abc'. The length of this message is 3 bytes (< 64). The objective here is to pad our message to 64 bytes. To do so, we use the original message (3 bytes), we add a 1 as a seperator and we fill the middle part of our pad with zeros up to the lenght of 448th bits. The last 64 bits are preserved and filled with the length of the binary representation of the initial message.\n",
    "\n",
    "(In the event of our message being between 56 and 64 bytes it is padded in a similar manner to 128 bytes as the minimum length of a pad can be 9 bytes as we will see later in the implementation)\n",
    "\n",
    "We can start the construction of our padding function by using 'abc' as an input message."
   ]
  },
  {
   "cell_type": "code",
   "execution_count": 23,
   "metadata": {},
   "outputs": [],
   "source": [
    "input_message = 'abc'"
   ]
  },
  {
   "cell_type": "markdown",
   "metadata": {},
   "source": [
    "The length of the message will be:"
   ]
  },
  {
   "cell_type": "code",
   "execution_count": 24,
   "metadata": {},
   "outputs": [
    {
     "name": "stdout",
     "output_type": "stream",
     "text": [
      "3\n"
     ]
    }
   ],
   "source": [
    "inputs_len = len(input_message)\n",
    "print (inputs_len)"
   ]
  },
  {
   "cell_type": "markdown",
   "metadata": {},
   "source": [
    "To calculate the length of the message in bits we multiply the number of its characters (integer) by $2^3$ since in ascii every character can be expressed in 8-bit. Generally, the bitwise left shift operation $x << y$ adds $y$ zeros on the right of the binary. This can be expressed mathematically as $x = 2^y$. Therefore to compute the length of our 8-bit ascii message we multiply its length by $2^3$ (similar to $<< 3$)."
   ]
  },
  {
   "cell_type": "code",
   "execution_count": 25,
   "metadata": {},
   "outputs": [
    {
     "name": "stdout",
     "output_type": "stream",
     "text": [
      "24\n"
     ]
    }
   ],
   "source": [
    "lenght = inputs_len << 3\n",
    "print (lenght)"
   ]
  },
  {
   "cell_type": "markdown",
   "metadata": {},
   "source": [
    "In the following step we use the *struct* package to handle and convert our binary data. We pass the parameter \">Q\" in the struch function (where *>* denotes our preference to store the values in a big-endian manner as described in the SHA-256 description paper and \"Q\" denotes the format which in this case is an integer of length 8 (see python's documentation<sup>[[17]](#ref)</sup>)."
   ]
  },
  {
   "cell_type": "markdown",
   "metadata": {},
   "source": [
    "We produce a 64 bits (8 bytes) binary that ends with the length of the input message and has 0s in the front."
   ]
  },
  {
   "cell_type": "code",
   "execution_count": 26,
   "metadata": {},
   "outputs": [
    {
     "name": "stdout",
     "output_type": "stream",
     "text": [
      "b'\\x00\\x00\\x00\\x00\\x00\\x00\\x00\\x18'\n"
     ]
    }
   ],
   "source": [
    "import struct\n",
    "\n",
    "lenght_pad = struct.pack('>Q', lenght)\n",
    "print (lenght_pad)"
   ]
  },
  {
   "cell_type": "markdown",
   "metadata": {},
   "source": [
    "As we can see, the 7 bytes at the front are 0s and the last one represents the length of the message."
   ]
  },
  {
   "cell_type": "code",
   "execution_count": 27,
   "metadata": {},
   "outputs": [
    {
     "name": "stdout",
     "output_type": "stream",
     "text": [
      "[0, 0, 0, 0, 0, 0, 0, 24]\n"
     ]
    }
   ],
   "source": [
    "print ([ord(i) for i in '\\x00\\x00\\x00\\x00\\x00\\x00\\x00\\x18'])"
   ]
  },
  {
   "cell_type": "markdown",
   "metadata": {},
   "source": [
    "To start our pad with a 1 we can use the binary representation of the integer 128. This way we can have an 8 bit word that starts with 1 and the 7 following digits are 0."
   ]
  },
  {
   "cell_type": "code",
   "execution_count": 28,
   "metadata": {},
   "outputs": [
    {
     "data": {
      "text/plain": [
       "128"
      ]
     },
     "execution_count": 28,
     "metadata": {},
     "output_type": "execute_result"
    }
   ],
   "source": [
    "ord('\\x80')"
   ]
  },
  {
   "cell_type": "code",
   "execution_count": 29,
   "metadata": {},
   "outputs": [
    {
     "data": {
      "text/plain": [
       "'0b10000000'"
      ]
     },
     "execution_count": 29,
     "metadata": {},
     "output_type": "execute_result"
    }
   ],
   "source": [
    "bin(ord('\\x80'))"
   ]
  },
  {
   "cell_type": "markdown",
   "metadata": {},
   "source": [
    "So far we have the left part of our pad that starts with 1 ('\\x80' --> **1 byte**), the last part that ends with the message length ('\\x00\\x00\\x00\\x00\\x00\\x00\\x00\\x18' --> **8 bytes**) and we also know the length of our input message ('abc' --> **3 bytes**). To generate an appropriate padding we need to fill the middle part of our pad with zeros ('\\x00') to achive a length of 64 bytes.\n",
    "\n",
    "Therefore, we are looking for a number of zeros that satisfies the following condition:\n",
    "\n",
    "$message$ $lenght$ $+ 1 + number$ $of$ $zeros + 8 = 64$\n",
    "\n",
    "or \n",
    "\n",
    "\n",
    " $number$ $of$ $zeros = 55 -$ $message$ $lenght$\n",
    " \n",
    "In this case the number of zeros we need to add is 52."
   ]
  },
  {
   "cell_type": "code",
   "execution_count": 30,
   "metadata": {},
   "outputs": [
    {
     "name": "stdout",
     "output_type": "stream",
     "text": [
      "52\n"
     ]
    }
   ],
   "source": [
    "zeros = 55 - inputs_len\n",
    "print (zeros)"
   ]
  },
  {
   "cell_type": "markdown",
   "metadata": {},
   "source": [
    "Finally, our pad will be:"
   ]
  },
  {
   "cell_type": "code",
   "execution_count": 31,
   "metadata": {},
   "outputs": [
    {
     "name": "stdout",
     "output_type": "stream",
     "text": [
      "b'\\x80\\x00\\x00\\x00\\x00\\x00\\x00\\x00\\x00\\x00\\x00\\x00\\x00\\x00\\x00\\x00\\x00\\x00\\x00\\x00\\x00\\x00\\x00\\x00\\x00\\x00\\x00\\x00\\x00\\x00\\x00\\x00\\x00\\x00\\x00\\x00\\x00\\x00\\x00\\x00\\x00\\x00\\x00\\x00\\x00\\x00\\x00\\x00\\x00\\x00\\x00\\x00\\x00\\x00\\x00\\x00\\x00\\x00\\x00\\x00\\x18'\n"
     ]
    }
   ],
   "source": [
    "print (b'\\x80' + (b'\\x00' * zeros) + lenght_pad)"
   ]
  },
  {
   "cell_type": "markdown",
   "metadata": {},
   "source": [
    "As we can see the input message added to the pad generates a 64 bytes block message, ready to be digested by our hashing function."
   ]
  },
  {
   "cell_type": "code",
   "execution_count": 32,
   "metadata": {},
   "outputs": [
    {
     "data": {
      "text/plain": [
       "64"
      ]
     },
     "execution_count": 32,
     "metadata": {},
     "output_type": "execute_result"
    }
   ],
   "source": [
    "# We add 'abc' + pad\n",
    "\n",
    "len(b''.join([input_message.encode('ascii'), b'\\x80' + (b'\\x00' * zeros) + lenght_pad]))"
   ]
  },
  {
   "cell_type": "markdown",
   "metadata": {},
   "source": [
    "Based on this example we can now build the function. We need though to add an if statement for the eventuallity that our message is between 55 and 64 bytes. As the minimun lenght of the pad can be 9 bytes (one byte for the 1 on the left and 8 bytes for the lenght of the mesage on the right) if our message is between 55 and 64 bytes we add a number of 0s to pad the it to 128 bytes (the mext 64 multiple). "
   ]
  },
  {
   "cell_type": "code",
   "execution_count": 33,
   "metadata": {},
   "outputs": [],
   "source": [
    "import struct\n",
    "\n",
    "def padding(msg_lenght):\n",
    "\n",
    "    length_pad = struct.pack('>Q', msg_lenght << 3)\n",
    "\n",
    "    mod64 = msg_lenght & 0x3F  \n",
    "\n",
    "    if mod64 < 56:\n",
    "        zeros = 55 - mod64\n",
    "    else:\n",
    "        zeros = 119 - mod64 # If the message is between 55 and 64 we pad to 128 by adding more zeros\n",
    "\n",
    "    return b'\\x80' + (b'\\x00' * zeros) + length_pad"
   ]
  },
  {
   "cell_type": "code",
   "execution_count": 34,
   "metadata": {},
   "outputs": [
    {
     "data": {
      "text/plain": [
       "b'\\x80\\x00\\x00\\x00\\x00\\x00\\x00\\x00\\x00\\x00\\x00\\x00\\x00\\x00\\x00\\x00\\x00\\x00\\x00\\x00\\x00\\x00\\x00\\x00\\x00\\x00\\x00\\x00\\x00\\x00\\x00\\x00\\x00\\x00\\x00\\x00\\x00\\x00\\x00\\x00\\x00\\x00\\x00\\x00\\x00\\x00\\x00\\x00\\x00\\x00\\x00\\x00\\x00\\x00\\x00\\x00\\x00\\x00\\x00\\x00\\x18'"
      ]
     },
     "execution_count": 34,
     "metadata": {},
     "output_type": "execute_result"
    }
   ],
   "source": [
    "# 'abc' example\n",
    "padding(inputs_len)"
   ]
  },
  {
   "cell_type": "markdown",
   "metadata": {},
   "source": [
    "## Logical functions used for the cryptographic algorithm's main function\n",
    "<a id=\"logic\"></a>"
   ]
  },
  {
   "cell_type": "markdown",
   "metadata": {},
   "source": [
    "There are six logical functions used by SHA-256 for compressing the input message after preproccessing it. As we have already defined all our operations in python we can 'transcript' the following functions and explain what each of them does."
   ]
  },
  {
   "cell_type": "markdown",
   "metadata": {},
   "source": [
    "![Logic](img/logical_functions.png)"
   ]
  },
  {
   "cell_type": "markdown",
   "metadata": {},
   "source": [
    "### Choice function ($choice(x, y, z)$)\n",
    "<a id=\"choise\"></a>"
   ]
  },
  {
   "cell_type": "markdown",
   "metadata": {},
   "source": [
    "This function takes 3  words as an input and uses the one to make a decision on how to choose a bit from the other two to include it in the output. In the following example we use $z$ to make a decision. When $z$ is 1 then the $y$ corresponding bit value is selected and when $z$ is 0 the $x$ bit value is selected."
   ]
  },
  {
   "cell_type": "code",
   "execution_count": 35,
   "metadata": {},
   "outputs": [
    {
     "name": "stdout",
     "output_type": "stream",
     "text": [
      "0b1100111\n"
     ]
    }
   ],
   "source": [
    "# Example of inputs\n",
    "z = 0b1110101\n",
    "y = 0b1001111\n",
    "x = 0b1010110\n",
    "\n",
    "def choice(x, y, z):\n",
    "    return (x & y) ^ (~x & z)\n",
    "\n",
    "print (bin(choice(x, y, z)))"
   ]
  },
  {
   "cell_type": "markdown",
   "metadata": {},
   "source": [
    "### Majority function ($majority(x, y, z)$)\n",
    "<a id=\"maj\"></a>"
   ]
  },
  {
   "cell_type": "markdown",
   "metadata": {},
   "source": [
    "This function takes 3 words as arguments, and returns the dominant bit value for each position (majority). Here is a python implementation:"
   ]
  },
  {
   "cell_type": "code",
   "execution_count": 36,
   "metadata": {},
   "outputs": [
    {
     "name": "stdout",
     "output_type": "stream",
     "text": [
      "0b1010111\n"
     ]
    }
   ],
   "source": [
    "# Example of inputs\n",
    "x = 0b1010110\n",
    "y = 0b1001111\n",
    "z = 0b1110101\n",
    "\n",
    "def majority(x, y, z):\n",
    "    return (x & y) ^ (x & z) ^ (y & z)\n",
    "\n",
    "print (bin(majority(x, y, z)))"
   ]
  },
  {
   "cell_type": "markdown",
   "metadata": {},
   "source": [
    "### $\\Sigma_0$ function\n",
    "<a id=\"S0\"></a>"
   ]
  },
  {
   "cell_type": "markdown",
   "metadata": {},
   "source": [
    "The $\\Sigma_0$ function , as defined in the SHA-256  description paper, takes as an input a word, then generates three different right rotated versions of its bits (by 2, 13 and 22 steps). It then performs an exclusive or to the three rotated words to generate an output. "
   ]
  },
  {
   "cell_type": "code",
   "execution_count": 37,
   "metadata": {},
   "outputs": [],
   "source": [
    "def S0(x):\n",
    "    return r_rot(x, 2) ^ r_rot(x, 13) ^ r_rot(x, 22)"
   ]
  },
  {
   "cell_type": "markdown",
   "metadata": {},
   "source": [
    "### $\\Sigma_1$ function\n",
    "<a id=\"S1\"></a>"
   ]
  },
  {
   "cell_type": "markdown",
   "metadata": {},
   "source": [
    "$\\Sigma_1$ works similarly to $\\Sigma_0$ with the only difference that performs a 6, 11 and 25 steps right rotation on the input word.   "
   ]
  },
  {
   "cell_type": "code",
   "execution_count": 38,
   "metadata": {},
   "outputs": [],
   "source": [
    "def S1(x):\n",
    "    return r_rot(x, 6) ^ r_rot(x, 11) ^ r_rot(x, 25)"
   ]
  },
  {
   "cell_type": "markdown",
   "metadata": {},
   "source": [
    "### $\\sigma_0$ function\n",
    "<a id=\"s0\"></a>"
   ]
  },
  {
   "cell_type": "markdown",
   "metadata": {},
   "source": [
    "The $\\sigma_0$ function takes one word as an argument. Then it produces a version of it right rotated by 7, one right rotated by 18 and one right shifted by 3. To output the final word performs an exclusive or to all three."
   ]
  },
  {
   "cell_type": "code",
   "execution_count": 39,
   "metadata": {},
   "outputs": [],
   "source": [
    "def s0(x):\n",
    "    return r_rot(x, 7) ^ r_rot(x, 18) ^ (x >> 3)"
   ]
  },
  {
   "cell_type": "markdown",
   "metadata": {},
   "source": [
    "### $\\sigma_1$ function\n",
    "<a id=\"s1\"></a>"
   ]
  },
  {
   "cell_type": "markdown",
   "metadata": {},
   "source": [
    "The $\\sigma_1$ function works similarly to $\\sigma_0$. It produces a version of the input word right rotated by 17 steps, one right rotated by 19 steps and one right shifted by 10 steps. To generate the final word it performs an exclusive or to all three."
   ]
  },
  {
   "cell_type": "code",
   "execution_count": 40,
   "metadata": {},
   "outputs": [],
   "source": [
    "def s1(x):\n",
    "    return r_rot(x, 17) ^ r_rot(x, 19) ^ (x >> 10)"
   ]
  },
  {
   "cell_type": "markdown",
   "metadata": {},
   "source": [
    "### The main hashing function\n",
    "<a id=\"comp\"></a>"
   ]
  },
  {
   "cell_type": "markdown",
   "metadata": {},
   "source": [
    "The hash function takes as an input a message of 64-bytes (512-bits) and performs the following steps:\n",
    "\n",
    "\n",
    "1. First step will be to initialise the hash values $H$(state registers).\n",
    "\n",
    "\n",
    "2. The next step is to create the message schedule. To generate the first 16 words of the message schedule we split the input word in chunks of 32 bits. Since the message schedule has to be a list of 64 words we use the $\\sigma_0$ and $\\sigma_1$ functions to generate the remaining 48 words. Therefore each word $i$, where $i \\in (17$ to $64)$ of the message schedule list, will be equal to:\n",
    "        \n",
    "    $word_i=((word_{(i-16)}+\\sigma_0(word_{(i-2)})+(word_{(i-7)})+\\sigma_1(word_{(i-2)}))mod2^{32}$\n",
    "\n",
    "\n",
    "3. Compression of the message: To compress our message with the hash values we iterate through the message schedule list we have created in the previous step. For each word $i$ ( where $i \\in (1$ to $64)$ ) we perform the following steps:\n",
    "\n",
    "    We create a temporary word $T^{(1)}$ using $\\Sigma_1$, $choice()$ functions and the $K$ and $H$ constants, wich equals to:\n",
    "\n",
    "    $T^{(1)}_i = H_8 + \\Sigma_1(H_5) + choice(H_5, H_6, H_7) + K_i + word_i$\n",
    "\n",
    "    and a temporary word $T^{(2)}$ using the $\\Sigma_0$, $majority()$ functions and the $H$ constants, which equals to:\n",
    "\n",
    "    $T^{(2)}_i = \\Sigma_0(H_1) + majority(H_1,H_2, H_3)$\n",
    "    \n",
    "    Then we update the $H$ values in the following manner:\n",
    "    \n",
    "    $H_8 = H_7, H_7 = H_6, H_6 = H_5, H_5 = (H_4 + T^{(1)}_i)mod2^{32}, H_4 = H_3, H_3 = H_2, H_2 = H_1, H_1 = (T^{(1)}_i + T^{(2)}_i)mod2^{32}$\n",
    "    \n",
    "    *(At this stage we are actually dropping the $H_8$ information as it is not assigned)*\n",
    "    \n",
    "    This proccess is repeated for every $word_i$ (in the schedule message) and $K_i$. Each round of compression uses the updated $H$ values of the previous iteration.\n",
    "    \n",
    "    At the end of this step, we add the updated $H$ values to the initial ones:\n",
    "    \n",
    "    $H^{final} = (H^{updated} + H^{initial})mod2^{32}$\n",
    "    \n",
    "If there are more multiples of 64-byte message blocks (from our initial input text) this proccess is repeated taking as inital values the $H^{final}$ from the previous compression round. The output of the final round will be the final hash value."
   ]
  },
  {
   "cell_type": "markdown",
   "metadata": {},
   "source": [
    "Here is a python implementation of the hash function:"
   ]
  },
  {
   "cell_type": "code",
   "execution_count": 41,
   "metadata": {},
   "outputs": [],
   "source": [
    "import struct\n",
    "\n",
    "# Assigning the K constants\n",
    "K = [0x428a2f98, 0x71374491, 0xb5c0fbcf, 0xe9b5dba5, 0x3956c25b, 0x59f111f1, 0x923f82a4, 0xab1c5ed5,\n",
    "      0xd807aa98, 0x12835b01, 0x243185be, 0x550c7dc3, 0x72be5d74, 0x80deb1fe, 0x9bdc06a7, 0xc19bf174,\n",
    "      0xe49b69c1, 0xefbe4786, 0x0fc19dc6, 0x240ca1cc, 0x2de92c6f, 0x4a7484aa, 0x5cb0a9dc, 0x76f988da,\n",
    "      0x983e5152, 0xa831c66d, 0xb00327c8, 0xbf597fc7, 0xc6e00bf3, 0xd5a79147, 0x06ca6351, 0x14292967,\n",
    "      0x27b70a85, 0x2e1b2138, 0x4d2c6dfc, 0x53380d13, 0x650a7354, 0x766a0abb, 0x81c2c92e, 0x92722c85,\n",
    "      0xa2bfe8a1, 0xa81a664b, 0xc24b8b70, 0xc76c51a3, 0xd192e819, 0xd6990624, 0xf40e3585, 0x106aa070,\n",
    "      0x19a4c116, 0x1e376c08, 0x2748774c, 0x34b0bcb5, 0x391c0cb3, 0x4ed8aa4a, 0x5b9cca4f, 0x682e6ff3,\n",
    "      0x748f82ee, 0x78a5636f, 0x84c87814, 0x8cc70208, 0x90befffa, 0xa4506ceb, 0xbef9a3f7, 0xc67178f2]\n",
    "\n",
    "# Assigning the H constants\n",
    "H = [0x6a09e667, 0xbb67ae85, 0x3c6ef372, 0xa54ff53a, 0x510e527f, 0x9b05688c, 0x1f83d9ab, 0x5be0cd19]\n",
    "\n",
    "# Initiating a value to use for mod32 operations\n",
    "f32 = 0xFFFFFFFF\n",
    "\n",
    "def msg_compression(message_block, H, K):\n",
    "    \n",
    "    # Initiating the Hash values\n",
    "    a, b, c, d, e, f, g, h = H\n",
    "    \n",
    "    # initiating a list with 64 place-holders for the message schedule\n",
    "    m_schedule =  64 * [None]\n",
    "    \n",
    "    # 64 bytes are required, otherwise an error will be raised\n",
    "    # The first 16 words in the message schedule are populated by the message block chunks\n",
    "    m_schedule[0:16] = struct.unpack('>16L', message_block)\n",
    "\n",
    "    # We use the s functions to further populate the message schedule list\n",
    "    for i in range(16, 64):\n",
    "        m_schedule[i] = (m_schedule[i-16] + s0(m_schedule[i-15]) + m_schedule[i-7] + s1(m_schedule[i-2])) & f32\n",
    "    \n",
    "    \n",
    "    # Looping through the message schedule and compressing it iteratively\n",
    "    # to the H constants. During the process we also use the K constants\n",
    "    # to generate the temporary words T1 and T2.\n",
    "    for i in range(64):\n",
    "        T1 = h + S1(e) + choice(e, f, g) + K[i] + m_schedule[i]\n",
    "        T2 = S0(a) + majority(a, b, c)\n",
    "        \n",
    "        # Updating the hash values in the end of each iterration.\n",
    "        h = g;   g = f;   f = e;   e = (d + T1) & f32;   d = c\n",
    "        \n",
    "        c = b;   b = a;   a = (T1 + T2) & f32\n",
    "    \n",
    "    # Creating a list with the final hashed values for this message block\n",
    "    # by adding the initial H constants to the compressed ones\n",
    "    H = [((x + y) & f32) for x,y in zip(H, [a, b, c, d, e, f, g, h])]\n",
    "    print (H)"
   ]
  },
  {
   "cell_type": "code",
   "execution_count": 42,
   "metadata": {},
   "outputs": [
    {
     "name": "stdout",
     "output_type": "stream",
     "text": [
      "The input lenght is:  64 \n",
      "\n",
      " And the final H values will be: \n",
      "\n",
      "[4280235720, 1815909234, 2014131107, 4090707777, 2030830240, 2533289756, 2501078905, 2944942141]\n"
     ]
    }
   ],
   "source": [
    "# The function only processes 64 bytes (512-bits) at the time\n",
    "\n",
    "# A 64 bytes input example\n",
    "x = b'gtgtgtgtgtgtgtgtgtgtgtgtgtgtgtgtgtgtgtgtgtgtgtgtgtgtgtgtgtgtgtgt'\n",
    "\n",
    "print (\"The input lenght is: \", len(x), \"\\n\\n\",\"And the final H values will be: \\n\")\n",
    "\n",
    "msg_compression(x, H, K)"
   ]
  },
  {
   "cell_type": "markdown",
   "metadata": {},
   "source": [
    "## Combining everything to build the SHA-256 algorithm\n",
    "<a id=\"comb\"></a>"
   ]
  },
  {
   "cell_type": "markdown",
   "metadata": {},
   "source": [
    "In this section we combine all the previously defined operators and functions to develop the cryptographic algorithm."
   ]
  },
  {
   "cell_type": "markdown",
   "metadata": {},
   "source": [
    "A general description of the algorithm and its functionality:"
   ]
  },
  {
   "cell_type": "markdown",
   "metadata": {},
   "source": [
    "1. The hash function takes an input as a string. To change the text into a binary representation it uses the ascii. Every character in ascii corresponds to a number and then this number is used to produce an 8 bit binary representation of the initial character.\n",
    "\n",
    "2. The input text is broken down into multiples of 64 bytes (512 bits) to be hashed by the algoritm iteratively. \n",
    "\n",
    "3. If the input message is less than 64 bytes or after breaking it into chunks there is a number of characters left that are less than 64 bytes, the algorithm pads these characters to a message block of muliple of 64 bytes and feeds it to the hash function to be consumed. \n",
    "\n",
    "4. After the entire input message is compressed, the final hash values are concatenated and converted to hexadecimal to generate the final hash value."
   ]
  },
  {
   "cell_type": "markdown",
   "metadata": {},
   "source": [
    "This is a visual representation of how the algorithm works"
   ]
  },
  {
   "cell_type": "markdown",
   "metadata": {},
   "source": [
    "![Vis](img/sha256.png)"
   ]
  },
  {
   "cell_type": "markdown",
   "metadata": {},
   "source": [
    "The following sha_256 class is a python implementation of the algorithm:"
   ]
  },
  {
   "cell_type": "code",
   "execution_count": 43,
   "metadata": {},
   "outputs": [],
   "source": [
    "import copy, struct, binascii\n",
    "\n",
    "\n",
    "class sha_256(object):\n",
    "    \n",
    "    # The K and H constants are initialised\n",
    "    \n",
    "    K = [0x428a2f98, 0x71374491, 0xb5c0fbcf, 0xe9b5dba5, 0x3956c25b, 0x59f111f1, 0x923f82a4, 0xab1c5ed5,\n",
    "         0xd807aa98, 0x12835b01, 0x243185be, 0x550c7dc3, 0x72be5d74, 0x80deb1fe, 0x9bdc06a7, 0xc19bf174,\n",
    "         0xe49b69c1, 0xefbe4786, 0x0fc19dc6, 0x240ca1cc, 0x2de92c6f, 0x4a7484aa, 0x5cb0a9dc, 0x76f988da,\n",
    "         0x983e5152, 0xa831c66d, 0xb00327c8, 0xbf597fc7, 0xc6e00bf3, 0xd5a79147, 0x06ca6351, 0x14292967,\n",
    "         0x27b70a85, 0x2e1b2138, 0x4d2c6dfc, 0x53380d13, 0x650a7354, 0x766a0abb, 0x81c2c92e, 0x92722c85,\n",
    "         0xa2bfe8a1, 0xa81a664b, 0xc24b8b70, 0xc76c51a3, 0xd192e819, 0xd6990624, 0xf40e3585, 0x106aa070,\n",
    "         0x19a4c116, 0x1e376c08, 0x2748774c, 0x34b0bcb5, 0x391c0cb3, 0x4ed8aa4a, 0x5b9cca4f, 0x682e6ff3,\n",
    "         0x748f82ee, 0x78a5636f, 0x84c87814, 0x8cc70208, 0x90befffa, 0xa4506ceb, 0xbef9a3f7, 0xc67178f2]\n",
    "\n",
    "    H = [0x6a09e667, 0xbb67ae85, 0x3c6ef372, 0xa54ff53a, 0x510e527f, 0x9b05688c, 0x1f83d9ab, 0x5be0cd19]\n",
    "   \n",
    "\n",
    "    f32 = 0xFFFFFFFF\n",
    "    \n",
    "    compr_msg_lengh = 64\n",
    "    \n",
    "    # The construction function for our object is \n",
    "    def __init__(self, msg=None):\n",
    "        \n",
    "        # We are initiating the instance's lenght to 0\n",
    "        self.msg_lenght = 0\n",
    "        \n",
    "        # We initiate this to represent the instance as byte array\n",
    "        self.msg_block = b''\n",
    "        \n",
    "    \n",
    "    # We define the methods of our SHA-256 class\n",
    "    def r_rot(self, x, steps):\n",
    "        return ((x >> steps) | (x << (32 - steps))) & f32\n",
    "    \n",
    "    def S0(self, x):\n",
    "        return self.r_rot(x, 2) ^ self.r_rot(x, 13) ^ self.r_rot(x, 22)\n",
    "\n",
    "    def S1(self, x):\n",
    "        return self.r_rot(x, 6) ^ self.r_rot(x, 11) ^ self.r_rot(x, 25)\n",
    "\n",
    "    def s0(self, x):\n",
    "        return self.r_rot(x, 7) ^ self.r_rot(x, 18) ^ (x >> 3)\n",
    "\n",
    "    def s1(self, x):\n",
    "        return self.r_rot(x, 17) ^ self.r_rot(x, 19) ^ (x >> 10)\n",
    "    \n",
    "    def majority(self, x, y, z):\n",
    "        return (x & y) ^ (x & z) ^ (y & z)\n",
    "\n",
    "    def choice(self, x, y, z):\n",
    "        return (x & y) ^ (~x & z)\n",
    "\n",
    "    def msg_compression(self, message_block):\n",
    "        \n",
    "        self.message_block = message_block\n",
    "        \n",
    "        a, b, c, d, e, f, g, h = self.H\n",
    "        \n",
    "        m_schedule = 64 * [None]\n",
    "        \n",
    "        m_schedule[0:16] = struct.unpack('>16L', self.message_block)\n",
    "\n",
    "        for i in range(16, 64):\n",
    "            m_schedule[i] = (m_schedule[i-16] + self.s0(m_schedule[i-15]) + m_schedule[i-7] + self.s1(m_schedule[i-2])) & f32\n",
    "\n",
    "        for i in range(64):\n",
    "            T1 = h + self.S1(e) + self.choice(e, f, g) + self.K[i] + m_schedule[i]\n",
    "            T2 = self.S0(a) + self.majority(a, b, c)\n",
    "\n",
    "            h = g;   g = f;   f = e;   e = (d + T1) & f32;   d = c\n",
    "            c = b;   b = a;   a = (T1 + T2) & f32\n",
    "            \n",
    "        self.H = [((x + y) & f32) for x, y in zip(self.H, [a, b, c, d, e, f, g, h])]\n",
    "        \n",
    "        return self.H\n",
    "\n",
    "    def update(self, msg):\n",
    "        \n",
    "        self.msg = msg\n",
    "        \n",
    "        if not self.msg:\n",
    "            \n",
    "            return\n",
    "        \n",
    "        if type(self.msg) is not bytes:\n",
    "            \n",
    "            raise TypeError('The input has to be encoded')\n",
    "        \n",
    "        # Length of the message or message residuals every time the update() function runs\n",
    "        self.msg_lenght = len(self.msg) + self.msg_lenght \n",
    "        \n",
    "        # In the first time the update() runs we turn the message into birary\n",
    "        # In the second itteration we concatenate the \n",
    "        # residuals (cached) with the pad to form a 64 message\n",
    "        self.msg = self.msg_block + self.msg\n",
    "        \n",
    "        # this loop will compress all the 64 multiples of the message.\n",
    "        # if the lenght//64 has residuals (of lengh less than 64), \n",
    "        # the loop will not run and the residuals will be forwaded for padding.\n",
    "        # Once the padding will convert the residuals to 64 the loop will compress \n",
    "        # the message once it is run in the digest() method.\n",
    "        for i in range(0, len(self.msg) // self.compr_msg_lengh):\n",
    "            self.msg_compression(self.msg[self.compr_msg_lengh*i : self.compr_msg_lengh*(i + 1)])\n",
    "        \n",
    "        # The remainands of 64 are saved to be passed for padding \n",
    "        # The update() function will run again inside the digest() method\n",
    "        # to compress the padded message\n",
    "        self.msg_block = self.msg[-(len(self.msg) % self.compr_msg_lengh) : ] \n",
    "        \n",
    "    def padding(self, msg_lenght):\n",
    "        \n",
    "        length_pad = struct.pack('>Q', msg_lenght << 3)\n",
    "        mod64 = msg_lenght & 0x3F \n",
    "\n",
    "        if mod64 < 56:\n",
    "            zeros = 55 - mod64\n",
    "        else:\n",
    "            zeros = 119 - mod64\n",
    "\n",
    "        return b'\\x80' + (b'\\x00' * zeros) + length_pad\n",
    "\n",
    "    def digest(self):\n",
    "        # We pad the residuals of 64 for padding\n",
    "        padded = self.padding(self.msg_lenght)\n",
    "        \n",
    "        p = copy.copy(self)\n",
    "        \n",
    "        # We pass the pad to the update() function to be merged \n",
    "        # with the original or remainder (less than 64)\n",
    "        # message to be compressed\n",
    "        p.update(padded)\n",
    "        \n",
    "        # The output of the main hash function is concatenated to \n",
    "        # produce the final outcome\n",
    "        return b''.join([struct.pack('!L', i) for i in p.H[:8]])\n",
    "\n",
    "    def hexdigest(self):  \n",
    "        # We produce the hexadecimal representation\n",
    "        # of the output of the digestion\n",
    "        return binascii.hexlify(self.digest()).decode('ascii')"
   ]
  },
  {
   "cell_type": "markdown",
   "metadata": {},
   "source": [
    "### Comparison to the python hashlib\n",
    "<a id=\"compare\"></a>"
   ]
  },
  {
   "cell_type": "markdown",
   "metadata": {},
   "source": [
    "The following code performs a comparison of the python's hashlib library to our implementation's results."
   ]
  },
  {
   "cell_type": "code",
   "execution_count": 44,
   "metadata": {},
   "outputs": [
    {
     "name": "stdout",
     "output_type": "stream",
     "text": [
      "Comparison:  True ---> The hash value is:  ba7816bf8f01cfea414140de5dae2223b00361a396177a9cb410ff61f20015ad\n",
      "Comparison:  True ---> The hash value is:  e3b0c44298fc1c149afbf4c8996fb92427ae41e4649b934ca495991b7852b855\n",
      "Comparison:  True ---> The hash value is:  6a67b72015b9dcdf22a2578959656d0a09caa7988ac08012542695d4d241bfd7\n",
      "Comparison:  True ---> The hash value is:  b4d5485dcb0dece3d449b55a8a1b1c49d41215f407bf1f2e1a3875ab7e021fd2\n",
      "Comparison:  True ---> The hash value is:  add0fcb4f68f2c2ac8f9e869bc5946f4382db632d1460461a81a2435081cf7e9\n",
      "Comparison:  True ---> The hash value is:  310490fceea756e9c1174f06b6d92e54fa8c351049de74159a8e6feba9fe14fe\n",
      "Comparison:  True ---> The hash value is:  218c11ab895d76c85c81afa629d5b66b3e6c44f1040fa441fcefed3a081592b2\n"
     ]
    }
   ],
   "source": [
    "# Importing python's hashlib\n",
    "import hashlib \n",
    "\n",
    "\n",
    "# Messages to be used for the comparison\n",
    "messages = [\"abc\",\n",
    "            \"\", \n",
    "            \"≈355¢∞§¶¶¶\", \n",
    "            \"ª•¶¬˚∆˙\", \n",
    "            \"UoL\",\n",
    "            \"Blockchain Programming\",\n",
    "           (\"This module is primarily assessed as a chain of courseworks all\"\n",
    "            \" leading to the development of a cryptocurrency and its supporting\"\n",
    "            \" blockchain.We understand that not everybody comes to the module \"\n",
    "            \"with the same backgroundand interests. Therefore, each link of the coursework \"\n",
    "            \"chain has two sections: one programming and one theoretical. As a student, \"\n",
    "            \"you choose the weightings of the two components: theory/programming ratios \"\n",
    "            \"of 30/70, 50/50, or 70/30. When you submit each assignment, you will tell us how \"\n",
    "            \"you want your assessments weighted.This first assignment involves exploring\"\n",
    "            \" an early cryptographic hash function, called MD2. ‘MD’ stands for Message Digest. \"\n",
    "            \"The name refers to the idea that you can use the output of a hash \"\n",
    "            \"function as a digest of the input. That is, it is a kind of smaller\"\n",
    "            \" description that acts as a proxy for the original thing being hashed. \"\n",
    "            \"MD2 was designed by Ron Rivest, the ‘R’ of RSA. MD2 is no longer \"\n",
    "            \"usable as a cryptographic hash function: it has been broken. \"\n",
    "            \"As technologies improve, it is harder for any function to be secure. \"\n",
    "            \"We will not be using MD2 in our development. We will be using the more \"\n",
    "            \"secure SHA256. You have already had a feel for how we can work with SHA256 \"\n",
    "            \"from one of the activities in this topic. We are asking you to work on MD2 \"\n",
    "            \"here because SHA256 is just too complicated to ask you to implement. \"\n",
    "            \"The intrepid among you, may wish to give it a go!\")]\n",
    "\n",
    "for i in messages:\n",
    "    # We hash the message with the hashlib library\n",
    "    hashlib_hash = hashlib.sha256(i.encode()).hexdigest()\n",
    "    \n",
    "    # We hash the same message by using our implementation\n",
    "    our_hash = sha_256()\n",
    "    \n",
    "    # We are using utf-8 as ascii cannot decode some of the characters in the test text list\n",
    "    our_hash.update(i.encode('utf-8'))\n",
    "    \n",
    "    # Validating the results\n",
    "    print ('Comparison: ',our_hash.hexdigest() == hashlib_hash, '---> The hash value is: ', our_hash.hexdigest())"
   ]
  },
  {
   "cell_type": "markdown",
   "metadata": {},
   "source": [
    "# References\n",
    "<a id=\"ref\"></a>"
   ]
  },
  {
   "cell_type": "markdown",
   "metadata": {},
   "source": [
    "**Bibliography and other sources**\n",
    "\n",
    "<sup>[1]</sup> Feistel, Horst (1973). \"Cryptography and Computer Privacy\". Scientific American. 228 (5): 15–23. Bibcode:1973SciAm.228e..15F. doi:10.1038/scientificamerican0573-15\n",
    "\n",
    "<sup>[2]</sup> Herstein, I. N. (1964), Topics In Algebra, Waltham: Blaisdell Publishing Company, p. 90, ISBN 978-1114541016\n",
    "\n",
    "<sup>[3]</sup> [The Internet Engineering Task Force (IETF) is an open standards organization](https://www.ietf.org)\n",
    "\n",
    "<sup>[4]</sup> [Request for Comments, a memorandum on Internet standards](https://tools.ietf.org/rfc/index)\n",
    "\n",
    "<sup>[5]</sup> Knudsen, L., Mathiassen, J., Muller, F., and Thomsen, S., \"Cryptanalysis of MD2\", Journal of Cryptology, 23(1):72-90, 2010\n",
    "\n",
    "<sup>[6]</sup> Frank, P.; Goldstein, S.; Kac, M.; Prager, W.; Szegö, G.; Birkhoff, G., eds. (1964). Selected Papers of Richard von Mises. 2. Providence, Rhode Island: Amer. Math. Soc. pp. 313–334.\n",
    "\n",
    "<sup>[7]</sup> [RSA: A network security company named after it's co-funders Ron Rivest, Adi Shamir and Leonard Adleman](https://www.rsa.com)\n",
    "\n",
    "<sup>[8]</sup> [Public-key cryptography standards devised and published by RSA Security](https://en.wikipedia.org/wiki/PKCS)\n",
    "\n",
    "<sup>[9]</sup> [Salt in cryptography](https://en.wikipedia.org/wiki/Salt_(cryptography)#cite_note-:0-1)\n",
    "\n",
    "<sup>[10]</sup> Buchanan, W. Cryptography. (Gistrup, Denmark: River Publishers, 2017)\n",
    "\n",
    "<sup>[11]</sup> \"Debian codebase in Google Code\". Archived from the original on November 7, 2011. Retrieved 2011-11-08.\n",
    "\n",
    "<sup>[13]</sup> Hellman, M. (July 1980). \"A cryptanalytic time-memory trade-off\" (PDF). IEEE Transactions on Information Theory. 26 (4): 401–406. doi:10.1109/tit.1980.1056220. ISSN 0018-9448\n",
    "\n",
    "<sup>[12]</sup> Schneier, Bruce (January 2000). \"A Self-Study Course in Block-Cipher Cryptanalysis\". Cryptologia. 24 (1): 18–34. doi:10.1080/0161-110091888754. S2CID 53307028. Archived from the original on 2015-09-11. Retrieved 2011-01-11.\n",
    "\n",
    "<sup>[14]</sup> Piper, Fred. (2003). Reseacrh in cryptography and security mechanisms. Computers & Security. 22. 22-25. 10.1016/S0167-4048(03)00104-4. \n",
    "\n",
    "<sup>[15]</sup> [SHA-256 Description](http://www.iwar.org.uk/comsec/resources/cipher/sha256-384-512.pdf) (This is the same link provided in the coursework but it is not working anymore)\n",
    "\n",
    "<sup>[16]</sup> [Python bitwise operators](https://wiki.python.org/moin/BitwiseOperators)\n",
    "\n",
    "<sup>[17]</sup> [Interpret bytes as packed binary data (struct: Python's documentation)](https://docs.python.org/3/library/struct.html#format-characters)\n",
    "\n",
    "<sup>[18]</sup> [Intel: \"Moore's Law and Intel Innovation\"](https://www.intel.com/content/www/us/en/history/museum-gordon-moore-law.html)\n",
    "\n",
    "**Links of sites visited**\n",
    "\n",
    "[The SHA-256  alogoritm wikipedia](https://en.wikipedia.org/wiki/SHA-2) \n",
    "\n",
    "[SHA-2 algorithm and constants Federal Information Processing Standards Publications (FIPS PUBS) ](https://csrc.nist.gov/csrc/media/publications/fips/180/2/archive/2002-08-01/documents/fips180-2.pdf) \n",
    "\n",
    "[Multi-Mode Operator for SHA-2 Hash Functions\n",
    "Ryan Glabb, Laurent Imbert, Graham Jullien, Arnaud Tisserand, Nicolas Veyrat-Charvillon](https://core.ac.uk/download/pdf/191828933.pdf)  \n",
    "\n",
    "[Binary expaination](https://www.mathsisfun.com/binary-digits.html) \n",
    "\n",
    "**Code references**\n",
    "\n",
    "[SHA-256 implementation in ruby](https://github.com/in3rsha/sha256-animation/blob/master/compression.rb) \n",
    "\n",
    "[SHA-256 implementation in ruby (video)](https://www.youtube.com/watch?v=f9EbD6iY9zI)    \n",
    "\n",
    "[Example of SHA-256 implementation in python](https://github.com/thomdixon/pysha2/blob/master/sha2/sha256.py) \n"
   ]
  }
 ],
 "metadata": {
  "kernelspec": {
   "display_name": "Python 3",
   "language": "python",
   "name": "python3"
  },
  "language_info": {
   "codemirror_mode": {
    "name": "ipython",
    "version": 3
   },
   "file_extension": ".py",
   "mimetype": "text/x-python",
   "name": "python",
   "nbconvert_exporter": "python",
   "pygments_lexer": "ipython3",
   "version": "3.7.6"
  }
 },
 "nbformat": 4,
 "nbformat_minor": 4
}
